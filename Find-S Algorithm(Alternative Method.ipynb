{
 "cells": [
  {
   "cell_type": "code",
   "execution_count": 299,
   "metadata": {},
   "outputs": [
    {
     "name": "stdout",
     "output_type": "stream",
     "text": [
      "[['Sunny' 'Warm' 'Normal' 'Strong' 'Warm' 'Same' 'Yes']\n",
      " ['Sunny' 'Warm' 'High' 'Strong' 'Warm' 'Same' 'Yes']\n",
      " ['Rainy' 'Cold' 'High' 'Strong' 'Warm' 'Change' 'No']\n",
      " ['Sunny' 'Warm' 'High' 'Strong' 'Cold' 'Change' 'Yes']]\n",
      "7\n",
      "['Sunny' 'Warm' 'High' 'Strong' 'Warm' 'Same' 'Yes']\n",
      "['0', '0', '0', '0', '0', '0']\n",
      "[['Sunny', 'Warm', 'Normal', 'Strong', 'Warm', 'Same', 'Yes'], ['Sunny', 'Warm', 'High', 'Strong', 'Warm', 'Same', 'Yes'], ['Sunny', 'Warm', 'High', 'Strong', 'Cold', 'Change', 'Yes']]\n",
      "['0', '0', '0', '0', '0', '0']\n",
      "3\n",
      "7\n",
      "['Sunny', '0', '0', '0', '0', '0']\n",
      "['Sunny', 'Warm', '0', '0', '0', '0']\n",
      "['Sunny', 'Warm', 'Normal', '0', '0', '0']\n",
      "['Sunny', 'Warm', 'Normal', 'Strong', '0', '0']\n",
      "['Sunny', 'Warm', 'Normal', 'Strong', 'Warm', '0']\n",
      "['Sunny', 'Warm', 'Normal', 'Strong', 'Warm', 'Same']\n",
      "['Sunny', 'Warm', '?', 'Strong', 'Warm', 'Same']\n",
      "['Sunny', 'Warm', '?', 'Strong', 'Warm', 'Same']\n",
      "['Sunny', 'Warm', '?', 'Strong', '?', 'Same']\n",
      "['Sunny', 'Warm', '?', 'Strong', '?', '?']\n",
      "\n",
      " The positive hypothesis\n",
      "[['Sunny', 'Warm', 'Normal', 'Strong', 'Warm', 'Same', 'Yes'], ['Sunny', 'Warm', 'High', 'Strong', 'Warm', 'Same', 'Yes'], ['Sunny', 'Warm', 'High', 'Strong', 'Cold', 'Change', 'Yes']]\n",
      "\n",
      " The Negative hypothesis\n",
      "[['Rainy', 'Cold', 'High', 'Strong', 'Warm', 'Change', 'No']]\n",
      "Most specific hypothesis\n",
      "['Sunny', 'Warm', '?', 'Strong', '?', '?']\n"
     ]
    }
   ],
   "source": [
    "import pandas as pd\n",
    "import csv\n",
    "data=pd.read_csv('C:\\\\Users\\\\Akshay\\\\Desktop\\\\datalab.csv')\n",
    "columnLength=data.shape[1]\n",
    "print(data.values)\n",
    "print(columnLength)\n",
    "print(data.values[1])\n",
    "\n",
    "h=['0']*(columnLength-1)\n",
    "hp=[]\n",
    "hn=[]\n",
    "print(h)\n",
    "\n",
    "\n",
    "for trainingExample in data.values:\n",
    "    if(trainingExample[-1]!='No'):\n",
    "         hp.append(list(trainingExample))  \n",
    "    else:\n",
    "         hn.append(list(trainingExample))\n",
    "print(hp)  \n",
    "len(hp)\n",
    "print(h)\n",
    "print(len(hp))\n",
    "print(columnLength)\n",
    "\n",
    "for i in range(0,len(hp)):\n",
    "    for j in range(columnLength-1):\n",
    "        if(h[j]=='0'):\n",
    "            h[j]=hp[i][j]\n",
    "            print(h)\n",
    "        if(h[j]!=hp[i][j]):\n",
    "            h[j]='?'\n",
    "            print(h)\n",
    "        else:\n",
    "            h[j]=hp[i][j]\n",
    "            \n",
    "            \n",
    "       \n",
    "            \n",
    "\n",
    "print(\"\\n The positive hypothesis\")\n",
    "print(hp)\n",
    "print(\"\\n The Negative hypothesis\")\n",
    "print(hn)\n",
    "print(\"Most specific hypothesis\")\n",
    "print(h)\n",
    "      "
   ]
  },
  {
   "cell_type": "code",
   "execution_count": 298,
   "metadata": {},
   "outputs": [
    {
     "data": {
      "text/plain": [
       "7"
      ]
     },
     "execution_count": 298,
     "metadata": {},
     "output_type": "execute_result"
    }
   ],
   "source": [
    "data.shape[1]"
   ]
  },
  {
   "cell_type": "code",
   "execution_count": null,
   "metadata": {},
   "outputs": [],
   "source": []
  },
  {
   "cell_type": "code",
   "execution_count": null,
   "metadata": {},
   "outputs": [],
   "source": []
  },
  {
   "cell_type": "code",
   "execution_count": null,
   "metadata": {},
   "outputs": [],
   "source": []
  },
  {
   "cell_type": "code",
   "execution_count": null,
   "metadata": {},
   "outputs": [],
   "source": []
  }
 ],
 "metadata": {
  "kernelspec": {
   "display_name": "Python 3",
   "language": "python",
   "name": "python3"
  },
  "language_info": {
   "codemirror_mode": {
    "name": "ipython",
    "version": 3
   },
   "file_extension": ".py",
   "mimetype": "text/x-python",
   "name": "python",
   "nbconvert_exporter": "python",
   "pygments_lexer": "ipython3",
   "version": "3.7.6"
  }
 },
 "nbformat": 4,
 "nbformat_minor": 4
}
